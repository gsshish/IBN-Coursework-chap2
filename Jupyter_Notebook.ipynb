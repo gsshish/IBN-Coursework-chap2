{
  "cells": [
    {
      "cell_type": "markdown",
      "metadata": {
        "id": "OoBd9972jM8s"
      },
      "source": [
        "<center>\n",
        "    <img src=\"https://cf-courses-data.s3.us.cloud-object-storage.appdomain.cloud/IBMDeveloperSkillsNetwork-DS0105EN-SkillsNetwork/labs/Module2/images/SN_web_lightmode.png\" width=\"300\" alt=\"cognitiveclass.ai logo\">\n",
        "</center>\n"
      ]
    },
    {
      "cell_type": "markdown",
      "metadata": {
        "id": "NLMnhMzkjM8v"
      },
      "source": [
        "#### Add your code below following the instructions given in the course\n"
      ]
    },
    {
      "cell_type": "markdown",
      "source": [
        "#Data Science Tools and Ecosystem"
      ],
      "metadata": {
        "id": "IHzMFLXbntKM"
      }
    },
    {
      "cell_type": "markdown",
      "source": [
        "In this notebook, Data Science Tools and Ecosystem are summarized.\n"
      ],
      "metadata": {
        "id": "yhF3EIFIoaDu"
      }
    },
    {
      "cell_type": "markdown",
      "source": [
        "Some of the popular languages that Data Scientists use are:\n",
        "<ol>\n",
        "  <li>Python</li>\n",
        "  <li>R</li>\n",
        "  <li>SQL</li>\n",
        "</ol>"
      ],
      "metadata": {
        "id": "Mc5KLNt_othk"
      }
    },
    {
      "cell_type": "markdown",
      "source": [
        "Some of the commonly used libraries used by Data Scientists include:\n",
        "<ol>\n",
        "  <li>Numpy</li>\n",
        "  <li>Pandas</li>\n",
        "  <li>ggplot2</li>\n",
        "</ol>"
      ],
      "metadata": {
        "id": "4XVwXa1Io51f"
      }
    },
    {
      "cell_type": "markdown",
      "source": [
        "| Data Science Tools  |\n",
        "| :---------------- |\n",
        "| Jupyter Notebooks   |\n",
        "| RStudio      |\n",
        "| Apache Zeppelin  |"
      ],
      "metadata": {
        "id": "B5z5v52NpW37"
      }
    },
    {
      "cell_type": "markdown",
      "source": [
        "###Below are a few examples of evaluating arithmetic expressions in Python"
      ],
      "metadata": {
        "id": "Q-J7ZfjCqNfW"
      }
    },
    {
      "cell_type": "code",
      "source": [
        "#This a simple arithmetic expression to mutiply then add integers\n",
        "(3*4)+5"
      ],
      "metadata": {
        "colab": {
          "base_uri": "https://localhost:8080/"
        },
        "id": "TUbyAcVKnwjh",
        "outputId": "8ea8c130-35db-4fc0-a5fc-fc595cdddbe4"
      },
      "execution_count": null,
      "outputs": [
        {
          "output_type": "execute_result",
          "data": {
            "text/plain": [
              "17"
            ]
          },
          "metadata": {},
          "execution_count": 1
        }
      ]
    },
    {
      "cell_type": "code",
      "source": [
        "#This will convert 200 minutes to hours by diving by 60\n",
        "200/60"
      ],
      "metadata": {
        "colab": {
          "base_uri": "https://localhost:8080/"
        },
        "id": "jEJ77lKynwqq",
        "outputId": "aab61906-9ec5-4429-fb9f-512ae5e7e1df"
      },
      "execution_count": null,
      "outputs": [
        {
          "output_type": "execute_result",
          "data": {
            "text/plain": [
              "3.3333333333333335"
            ]
          },
          "metadata": {},
          "execution_count": 2
        }
      ]
    },
    {
      "cell_type": "markdown",
      "source": [
        "Objectives:\n",
        "<ul>\n",
        "  <li>List popular languages for Data Science</li>\n",
        "  <li>List commonly used libraries</li>\n",
        "  <li>Show how to evaluate arithmetic expressions in Python</li>\n",
        "</ul>"
      ],
      "metadata": {
        "id": "wTjg3V9zrIQV"
      }
    },
    {
      "cell_type": "markdown",
      "source": [
        "## Author\n",
        "Mingjian Shen"
      ],
      "metadata": {
        "id": "fE0DgRc5rtuV"
      }
    }
  ],
  "metadata": {
    "kernelspec": {
      "display_name": "Python",
      "language": "python",
      "name": "conda-env-python-py"
    },
    "language_info": {
      "name": ""
    },
    "colab": {
      "provenance": []
    }
  },
  "nbformat": 4,
  "nbformat_minor": 0
}